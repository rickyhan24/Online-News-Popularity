{
  "nbformat": 4,
  "nbformat_minor": 0,
  "metadata": {
    "colab": {
      "name": "OnlineNewsPopularity.ipynb",
      "provenance": [],
      "authorship_tag": "ABX9TyOxa1kiOwRGUelV4pOscJY4",
      "include_colab_link": true
    },
    "kernelspec": {
      "name": "python3",
      "display_name": "Python 3"
    },
    "language_info": {
      "name": "python"
    }
  },
  "cells": [
    {
      "cell_type": "markdown",
      "metadata": {
        "id": "view-in-github",
        "colab_type": "text"
      },
      "source": [
        "<a href=\"https://colab.research.google.com/github/rickyhan24/Online-News-Popularity/blob/main/OnlineNewsPopularity.ipynb\" target=\"_parent\"><img src=\"https://colab.research.google.com/assets/colab-badge.svg\" alt=\"Open In Colab\"/></a>"
      ]
    },
    {
      "cell_type": "code",
      "metadata": {
        "id": "GOiWce-oeWuB"
      },
      "source": [
        "#Classification for Online News Popularity\n",
        "\n",
        "#Importing the Libraries\n",
        "\n",
        "import pandas as pd\n",
        "\n",
        "#Importing the dataset\n",
        "\n",
        "dataset = pd.read_csv(‘OnlineNewsPopularity(classification with nominal).csv’)\n",
        "\n",
        "X = dataset.iloc[:,2:-2].values\n",
        "\n",
        "Y = dataset.iloc[:, -1].values\n",
        "\n",
        "#Splitting the dataset into the Training set and Test set\n",
        "\n",
        "from sklearn.model_selection import train_test_split\n",
        "\n",
        "X_train, X_test, Y_train, Y_test = train_test_split(X, Y, test_size = 0.2, random_state = 0)\n",
        "\n",
        "#Fitting Gradient Boosting to Training set\n",
        "\n",
        "from sklearn.ensemble import GradientBoostingClassifier\n",
        "\n",
        "classifier = GradientBoostingClassifier()\n",
        "\n",
        "classifier.fit(X_train, Y_train)\n",
        "\n",
        "#Predicting the Test set results\n",
        "\n",
        "Y_pred = classifier.predict(X_test)\n",
        "\n",
        "#Making the Confusion Matrix\n",
        "\n",
        "from sklearn.metrics import confusion_matrix\n",
        "\n",
        "cm = confusion_matrix(Y_test, Y_pred)"
      ],
      "execution_count": null,
      "outputs": []
    }
  ]
}